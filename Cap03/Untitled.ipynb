{
 "cells": [
  {
   "cell_type": "code",
   "execution_count": 2,
   "id": "77da0e6f",
   "metadata": {},
   "outputs": [
    {
     "name": "stdout",
     "output_type": "stream",
     "text": [
      "2\n",
      "2\n"
     ]
    }
   ],
   "source": [
    "m = int(input())\n",
    "print(m)\n",
    "\n",
    "opcao = \"\""
   ]
  },
  {
   "cell_type": "code",
   "execution_count": 3,
   "id": "ffb4d7cb",
   "metadata": {},
   "outputs": [
    {
     "name": "stdout",
     "output_type": "stream",
     "text": [
      "Ok, você escolheu a multiplicação\n"
     ]
    }
   ],
   "source": [
    "if \"m\":\n",
    "    print(\"Ok, você escolheu a multiplicação\")"
   ]
  },
  {
   "cell_type": "code",
   "execution_count": null,
   "id": "02105352",
   "metadata": {},
   "outputs": [],
   "source": [
    "soma1 = int(input(\"Informe o número\"))\n",
    "soma2 = int(input(\"Informe o número\"))\n",
    "\n",
    "sub1 = int(input(\"Informe o número\"))\n",
    "sub2 = int(input(\"Informe o número\"))\n",
    "\n",
    "calcoma = soma1+soma2\n",
    "calcsub = sub1+sub2\n",
    "\n",
    "opcao = \"\"\n",
    "\n",
    "if "
   ]
  }
 ],
 "metadata": {
  "kernelspec": {
   "display_name": "Python 3 (ipykernel)",
   "language": "python",
   "name": "python3"
  },
  "language_info": {
   "codemirror_mode": {
    "name": "ipython",
    "version": 3
   },
   "file_extension": ".py",
   "mimetype": "text/x-python",
   "name": "python",
   "nbconvert_exporter": "python",
   "pygments_lexer": "ipython3",
   "version": "3.11.3"
  }
 },
 "nbformat": 4,
 "nbformat_minor": 5
}
